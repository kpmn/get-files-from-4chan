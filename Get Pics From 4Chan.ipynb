{
 "cells": [
  {
   "cell_type": "code",
   "execution_count": null,
   "metadata": {},
   "outputs": [],
   "source": [
    "import asyncio\n",
    "import logging\n",
    "from contextlib import closing\n",
    "import aiohttp \n",
    "import requests, os\n",
    "from urllib.parse import urlparse\n",
    "\n",
    "async def download(url, folder_to, session, semaphore, chunk_size=1<<15):\n",
    "    async with semaphore: # limit number of concurrent downloads\n",
    "        a = urlparse(url)\n",
    "        if not os.path.exists(folder_to):\n",
    "            os.makedirs(folder_to)\n",
    "        filename = folder_to+os.path.basename(a.path)\n",
    "        if not os.path.isfile(filename):\n",
    "            logging.info('downloading %s', filename)\n",
    "            try:\n",
    "                response_f = await session.get(url)\n",
    "            except:\n",
    "                print(url+' - не скачался')\n",
    "            with closing(response_f), open(filename, 'wb') as file:\n",
    "                while True: # save file\n",
    "                    chunk = await response_f.content.read(chunk_size)\n",
    "                    if not chunk:\n",
    "                        break \n",
    "                    file.write(chunk)\n",
    "            logging.info('done %s', filename)\n",
    "            return 1\n",
    "        else:\n",
    "            return 0 \n",
    "            \n",
    "            \n",
    "async def parallel_download_to_folder (file_urls, folder_to, streams):\n",
    "    async with aiohttp.ClientSession() as session:\n",
    "        semaphore = asyncio.Semaphore(streams)\n",
    "        download_tasks = (download(url, folder_to, session, semaphore) for url in file_urls)\n",
    "        return await asyncio.gather(*download_tasks)\n",
    "    "
   ]
  },
  {
   "cell_type": "code",
   "execution_count": null,
   "metadata": {},
   "outputs": [],
   "source": [
    "from bs4 import BeautifulSoup\n",
    "import os, json, time\n",
    "from datetime import datetime\n",
    "\n",
    "async def get_all_files_from_4chan_catalog(folder_to_base, board = 'b', streams = 4, logging_level = logging.INFO):\n",
    "    \n",
    "    logging.basicConfig(level=logging_level, format='%(asctime)s %(message)s')\n",
    "    site = 'http://boards.4channel.org/'\n",
    "    catalog_url = site+board+'/catalog'\n",
    "\n",
    "    cat_page = requests.get(catalog_url)\n",
    "    cat = BeautifulSoup(cat_page.text)\n",
    "    script = cat.find(\"script\", text=lambda text: text and \"var catalog\" in text)\n",
    "\n",
    "    json_string = script.text.split('var catalog =')[1].split('};var')[0]+'}' \n",
    "\n",
    "    data = json.loads(json_string)\n",
    "    threads = data[\"threads\"].keys()\n",
    "    for post in threads:\n",
    "        start_time = time.time()\n",
    "        file_urls =[]\n",
    "        thread_url = site+board+'/thread/'+str(post)\n",
    "        page = requests.get(thread_url)\n",
    "        thread = BeautifulSoup(page.text)\n",
    "        if thread.title == '4chan - 404 Not Found':\n",
    "            print(\"Post \"+str(post)+' - 404')\n",
    "            continue\n",
    "        files = thread.findAll(\"a\", attrs={\"class\": \"fileThumb\"})\n",
    "\n",
    "        file_urls = ['http:'+i.attrs.get(\"href\") for i in files]\n",
    "        \n",
    "        if not file_urls:\n",
    "            print(\"Post \"+str(post)+' - No files (already 404ed)')\n",
    "            \n",
    "        folder_to = folder_to_base+board+'/'+str(post)+'/'\n",
    "        response = await parallel_download_to_folder (file_urls, folder_to, streams)\n",
    "        end_time = time.time()\n",
    "        elapsed_time = end_time - start_time\n",
    "        print(datetime.now().strftime(\"%Y-%m-%d %H:%M:%S\")+\" Post \"+str(post)+\": \"+str(response.count(0))+\" files was here, \"+str(response.count(1))+\" added. Total: \"+str(len(response))+\" files. Elapsed \"+str(round(elapsed_time,2))+' s.')\n",
    "    print(\"That's all Folks!\")"
   ]
  },
  {
   "cell_type": "code",
   "execution_count": null,
   "metadata": {},
   "outputs": [],
   "source": [
    "await get_all_files_from_4chan_catalog('D:/pd/4chan_files/','b',4,logging.ERROR)"
   ]
  }
 ],
 "metadata": {
  "kernelspec": {
   "display_name": "Python 3",
   "language": "python",
   "name": "python3"
  },
  "language_info": {
   "codemirror_mode": {
    "name": "ipython",
    "version": 3
   },
   "file_extension": ".py",
   "mimetype": "text/x-python",
   "name": "python",
   "nbconvert_exporter": "python",
   "pygments_lexer": "ipython3",
   "version": "3.7.4"
  }
 },
 "nbformat": 4,
 "nbformat_minor": 2
}
